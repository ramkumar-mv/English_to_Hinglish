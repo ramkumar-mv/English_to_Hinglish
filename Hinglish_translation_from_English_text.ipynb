{
  "nbformat": 4,
  "nbformat_minor": 0,
  "metadata": {
    "colab": {
      "provenance": [],
      "toc_visible": true,
      "authorship_tag": "ABX9TyPEBrsuvOyeq29dwqiFQ7Lc",
      "include_colab_link": true
    },
    "kernelspec": {
      "name": "python3",
      "display_name": "Python 3"
    },
    "language_info": {
      "name": "python"
    }
  },
  "cells": [
    {
      "cell_type": "markdown",
      "metadata": {
        "id": "view-in-github",
        "colab_type": "text"
      },
      "source": [
        "<a href=\"https://colab.research.google.com/github/ramkumar-mv/English_to_Hinglish/blob/main/Hinglish_translation_from_English_text.ipynb\" target=\"_parent\"><img src=\"https://colab.research.google.com/assets/colab-badge.svg\" alt=\"Open In Colab\"/></a>"
      ]
    },
    {
      "cell_type": "code",
      "source": [
        "import spacy\n",
        "\n",
        "nlp = spacy.load(\"en_core_web_sm\")\n",
        "\n",
        "def extract_nouns(text):\n",
        "    doc = nlp(text)\n",
        "    nouns = [token.text for token in doc if token.pos_ == \"NOUN\"]\n",
        "    return nouns\n",
        "\n",
        "sentence = \"I was waiting for my bag.\"\n",
        "\n",
        "nouns = extract_nouns(sentence)\n",
        "\n",
        "print(\"Nouns in the sentence:\", nouns)\n"
      ],
      "metadata": {
        "colab": {
          "base_uri": "https://localhost:8080/"
        },
        "id": "GeFYaGxag5jQ",
        "outputId": "da582296-4f90-44a4-9aca-0c5260033e08"
      },
      "execution_count": null,
      "outputs": [
        {
          "output_type": "stream",
          "name": "stdout",
          "text": [
            "Nouns in the sentence: ['bag']\n"
          ]
        }
      ]
    },
    {
      "cell_type": "code",
      "source": [
        "import spacy\n",
        "from translate import Translator\n",
        "\n",
        "#sentence = input()\n",
        "\n",
        "#sample input\n",
        "sentence = \"Definitely share your feedback in the comment section.\"\n",
        "print(\"Input english sentence : \",sentence)\n",
        "\n",
        "nlp = spacy.load(\"en_core_web_sm\")\n",
        "\n",
        "def extract_nouns(text):\n",
        "    doc = nlp(text)\n",
        "    nouns = [token.text for token in doc if token.pos_ == \"NOUN\"]\n",
        "    return nouns\n",
        "\n",
        "nouns = extract_nouns(sentence)\n",
        "translator = Translator(to_lang=\"hi\")\n",
        "\n",
        "words = sentence.split()\n",
        "translated_words = []\n",
        "\n",
        "for word in words:\n",
        "    if word in nouns:\n",
        "        translated_words.append(word)\n",
        "    else:\n",
        "        translation = translator.translate(word)\n",
        "        translated_words.append(translation)\n",
        "\n",
        "translated_sentence = \" \".join(translated_words)\n",
        "print(\"Output hindi sentence : \",translated_sentence)\n"
      ],
      "metadata": {
        "colab": {
          "base_uri": "https://localhost:8080/"
        },
        "id": "2Q_7_GRrDXUx",
        "outputId": "0bef3290-6112-46ac-e4bb-ad6dbc699ff4"
      },
      "execution_count": null,
      "outputs": [
        {
          "output_type": "stream",
          "name": "stdout",
          "text": [
            "Input english sentence :  Definitely share your feedback in the comment section.\n",
            "Output hindi sentence :  निश्चित रूप से शेयर आपकी सराहना मेरे लिए बहुत मायने रखती है feedback में वह comment खंड\n"
          ]
        }
      ]
    }
  ]
}