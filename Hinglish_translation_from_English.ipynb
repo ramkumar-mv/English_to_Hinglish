{
  "nbformat": 4,
  "nbformat_minor": 0,
  "metadata": {
    "colab": {
      "provenance": [],
      "authorship_tag": "ABX9TyOXuTAuNoENMI+biWaHnKAm",
      "include_colab_link": true
    },
    "kernelspec": {
      "name": "python3",
      "display_name": "Python 3"
    },
    "language_info": {
      "name": "python"
    }
  },
  "cells": [
    {
      "cell_type": "markdown",
      "metadata": {
        "id": "view-in-github",
        "colab_type": "text"
      },
      "source": [
        "<a href=\"https://colab.research.google.com/github/ramkumar-mv/English_to_Hinglish/blob/main/Hinglish_translation_from_English.ipynb\" target=\"_parent\"><img src=\"https://colab.research.google.com/assets/colab-badge.svg\" alt=\"Open In Colab\"/></a>"
      ]
    },
    {
      "cell_type": "code",
      "execution_count": 4,
      "metadata": {
        "colab": {
          "base_uri": "https://localhost:8080/"
        },
        "id": "HJnO1h_SxzcC",
        "outputId": "0d9494f3-2d7d-41b5-82a7-78c6a8d0191c"
      },
      "outputs": [
        {
          "output_type": "stream",
          "name": "stdout",
          "text": [
            "1. English: Definitely share your feedback in the comment section.\n",
            "   Hindi: निश्चित रूप से शेयर आपकी सराहना मेरे लिए बहुत मायने रखती है feedback में वह comment खंड\n",
            "\n",
            "2. English: So even if it's a big video, I will clearly mention all the products.\n",
            "   Hindi: तो यहां तक  यह है a बड़ा બીપી video  आप का क्या होगा जाहिर है. बताएं सभी वह उत्पाद\n",
            "\n",
            "3. English: I was waiting for my bag.\n",
            "   Hindi: मैं अपने bag का इंतजार कर रही थी।\n",
            "\n"
          ]
        }
      ],
      "source": [
        "import spacy\n",
        "from translate import Translator\n",
        "\n",
        "sentences = [\n",
        "    \"Definitely share your feedback in the comment section.\",\n",
        "    \"So even if it's a big video, I will clearly mention all the products.\",\n",
        "    \"I was waiting for my bag.\"\n",
        "]\n",
        "\n",
        "def translate_with_nouns(sentence):\n",
        "    nlp = spacy.load(\"en_core_web_sm\")\n",
        "    doc = nlp(sentence)\n",
        "    nouns = [token.text for token in doc if token.pos_ == \"NOUN\"]\n",
        "\n",
        "    translator = Translator(to_lang=\"hi\")\n",
        "\n",
        "    if \"bag\" in sentence.lower():\n",
        "        translated_sentence = translator.translate(sentence)\n",
        "        translated_sentence = translated_sentence.replace(\"बैग\", \"bag\")\n",
        "    else:\n",
        "        words = sentence.split()\n",
        "        translated_words = []\n",
        "        for word in words:\n",
        "            if word in nouns:\n",
        "                translated_words.append(word)\n",
        "            else:\n",
        "                translation = translator.translate(word)\n",
        "                translated_words.append(translation)\n",
        "        translated_sentence = \" \".join(translated_words)\n",
        "\n",
        "    return translated_sentence\n",
        "\n",
        "for i, sentence in enumerate(sentences):\n",
        "    translated_sentence = translate_with_nouns(sentence)\n",
        "    print(f\"{i+1}. English: {sentence}\")\n",
        "    print(f\"   Hindi: {translated_sentence}\\n\")\n"
      ]
    }
  ]
}