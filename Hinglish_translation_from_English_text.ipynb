{
  "nbformat": 4,
  "nbformat_minor": 0,
  "metadata": {
    "colab": {
      "provenance": [],
      "toc_visible": true,
      "authorship_tag": "ABX9TyPPw0pklHTtVML7FEYXpzFf",
      "include_colab_link": true
    },
    "kernelspec": {
      "name": "python3",
      "display_name": "Python 3"
    },
    "language_info": {
      "name": "python"
    }
  },
  "cells": [
    {
      "cell_type": "markdown",
      "metadata": {
        "id": "view-in-github",
        "colab_type": "text"
      },
      "source": [
        "<a href=\"https://colab.research.google.com/github/ramkumar-mv/Hindi_to_Hinglish/blob/main/Hinglish_translation_from_English_text.ipynb\" target=\"_parent\"><img src=\"https://colab.research.google.com/assets/colab-badge.svg\" alt=\"Open In Colab\"/></a>"
      ]
    },
    {
      "cell_type": "code",
      "source": [
        "pip install translate"
      ],
      "metadata": {
        "colab": {
          "base_uri": "https://localhost:8080/"
        },
        "id": "WAq6XX0qD_XV",
        "outputId": "fc38598d-abc3-4392-d445-45fda0fc504f"
      },
      "execution_count": null,
      "outputs": [
        {
          "output_type": "stream",
          "name": "stdout",
          "text": [
            "Collecting translate\n",
            "  Downloading translate-3.6.1-py2.py3-none-any.whl (12 kB)\n",
            "Requirement already satisfied: click in /usr/local/lib/python3.10/dist-packages (from translate) (8.1.7)\n",
            "Requirement already satisfied: lxml in /usr/local/lib/python3.10/dist-packages (from translate) (4.9.3)\n",
            "Requirement already satisfied: requests in /usr/local/lib/python3.10/dist-packages (from translate) (2.31.0)\n",
            "Collecting libretranslatepy==2.1.1 (from translate)\n",
            "  Downloading libretranslatepy-2.1.1-py3-none-any.whl (3.2 kB)\n",
            "Requirement already satisfied: charset-normalizer<4,>=2 in /usr/local/lib/python3.10/dist-packages (from requests->translate) (3.2.0)\n",
            "Requirement already satisfied: idna<4,>=2.5 in /usr/local/lib/python3.10/dist-packages (from requests->translate) (3.4)\n",
            "Requirement already satisfied: urllib3<3,>=1.21.1 in /usr/local/lib/python3.10/dist-packages (from requests->translate) (2.0.4)\n",
            "Requirement already satisfied: certifi>=2017.4.17 in /usr/local/lib/python3.10/dist-packages (from requests->translate) (2023.7.22)\n",
            "Installing collected packages: libretranslatepy, translate\n",
            "Successfully installed libretranslatepy-2.1.1 translate-3.6.1\n"
          ]
        }
      ]
    },
    {
      "cell_type": "code",
      "source": [
        "import spacy\n",
        "from translate import Translator\n",
        "\n",
        "#sentence = input()\n",
        "\n",
        "#sample input\n",
        "sentence = \"Definitely share your feedback in the comment section.\"\n",
        "print(sentence)\n",
        "\n",
        "nlp = spacy.load(\"en_core_web_sm\")\n",
        "\n",
        "def extract_nouns(text):\n",
        "    doc = nlp(text)\n",
        "    nouns = [token.text for token in doc if token.pos_ == \"NOUN\"]\n",
        "    return nouns\n",
        "\n",
        "nouns = extract_nouns(sentence)\n",
        "translator = Translator(to_lang=\"hi\")\n",
        "words = sentence.split()\n",
        "translated_words = []\n",
        "\n",
        "for word in words:\n",
        "    if word in nouns:\n",
        "        translated_words.append(word)\n",
        "    else:\n",
        "        translation = translator.translate(word)\n",
        "        translated_words.append(translation)\n",
        "\n",
        "translated_sentence = \" \".join(translated_words)\n",
        "print(translated_sentence)\n"
      ],
      "metadata": {
        "colab": {
          "base_uri": "https://localhost:8080/"
        },
        "id": "2Q_7_GRrDXUx",
        "outputId": "52ae15e5-273e-467a-e23d-4cb1bcfdbd73"
      },
      "execution_count": null,
      "outputs": [
        {
          "output_type": "stream",
          "name": "stdout",
          "text": [
            "Definitely share your feedback in the comment section.\n",
            "निश्चित रूप से शेयर आपकी सराहना मेरे लिए बहुत मायने रखती है feedback में वह comment खंड\n"
          ]
        }
      ]
    }
  ]
}